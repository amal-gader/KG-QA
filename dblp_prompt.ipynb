{
 "cells": [
  {
   "cell_type": "code",
   "execution_count": 2,
   "id": "57b4c989",
   "metadata": {},
   "outputs": [
    {
     "name": "stderr",
     "output_type": "stream",
     "text": [
      "c:\\Users\\Administrator\\kg-qa\\venv\\lib\\site-packages\\tqdm\\auto.py:21: TqdmWarning: IProgress not found. Please update jupyter and ipywidgets. See https://ipywidgets.readthedocs.io/en/stable/user_install.html\n",
      "  from .autonotebook import tqdm as notebook_tqdm\n"
     ]
    }
   ],
   "source": [
    "from langchain_openai import OpenAIEmbeddings\n",
    "from sklearn.metrics.pairwise import cosine_similarity\n",
    "import openai\n",
    "\n",
    "from sentence_transformers import util, SentenceTransformer\n",
    "import json\n",
    "import torch\n",
    "from dotenv import load_dotenv\n",
    "import os\n",
    "\n",
    "load_dotenv()\n",
    "\n",
    "api_key = os.getenv(\"UNI_API_KEY\")"
   ]
  },
  {
   "cell_type": "code",
   "execution_count": 3,
   "id": "1e98d0ac",
   "metadata": {},
   "outputs": [],
   "source": [
    "with open('template_representatives.json', 'r') as f:\n",
    "    q_templates = json.load(f)"
   ]
  },
  {
   "cell_type": "code",
   "execution_count": 4,
   "id": "ef76185b",
   "metadata": {},
   "outputs": [],
   "source": [
    "\n",
    "def get_similar_question(question, corpus):\n",
    "    model = SentenceTransformer('all-MiniLM-L6-v2')\n",
    "\n",
    "    questions_text = [q['question'] for q in list(corpus.values())]\n",
    "    embeddings = model.encode(questions_text, convert_to_tensor=True)\n",
    "    question_embedding = model.encode(question, convert_to_tensor=True)\n",
    "    \n",
    "    hits = util.semantic_search(question_embedding, embeddings)\n",
    "    hits = hits[0]  \n",
    "    for hit in hits[0:5]:\n",
    "        print(\"\\t{:.3f}\\t{}\".format(hit['score'], questions_text[hit['corpus_id']]))\n",
    "    return [questions_text[hit['corpus_id']] for hit in hits[0:2]]"
   ]
  },
  {
   "cell_type": "code",
   "execution_count": 5,
   "id": "e522fa02",
   "metadata": {},
   "outputs": [],
   "source": [
    "def get_similar_questions(question, q_templates):\n",
    "    model = SentenceTransformer('all-MiniLM-L6-v2')\n",
    "\n",
    "    questions_text = [q['question'] for q in list(q_templates.values())]\n",
    "    embeddings = model.encode(questions_text, convert_to_tensor=True)\n",
    "    new_embedding = model.encode(question, convert_to_tensor=True)\n",
    "\n",
    "    similarities = util.pytorch_cos_sim(new_embedding, embeddings)[0]\n",
    "\n",
    "    # Get bottom 2 indices (least similar)\n",
    "    top_indices = torch.topk(similarities, k=2).indices.tolist()\n",
    "\n",
    "    results = []\n",
    "    for idx in top_indices:\n",
    "        q = list(q_templates.values())[idx]\n",
    "        results.append((q['question'], q['sparql']))\n",
    "\n",
    "    return results"
   ]
  },
  {
   "cell_type": "code",
   "execution_count": 6,
   "id": "ad1242d1",
   "metadata": {},
   "outputs": [
    {
     "data": {
      "text/plain": [
       "[(\"Do the authors of 'Assessing the veracity of identity assertions via OSNs' have Duke University as their primary affiliation?\",\n",
       "  \"ASK { <https://dblp.org/rec/conf/comsnets/SirivianosKGY12> <https://dblp.org/rdf/schema#authoredBy> ?x . ?x <https://dblp.org/rdf/schema#primaryAffiliation> 'Duke University, Durham, USA' }\"),\n",
       " (\"How many different affiliations do the authors of 'The Poetess Archive Database' have?\",\n",
       "  'SELECT (COUNT(DISTINCT ?answer) AS ?count) WHERE { <https://dblp.org/rec/journals/dhq/Mandell09> <https://dblp.org/rdf/schema#authoredBy> ?x . ?x <https://dblp.org/rdf/schema#primaryAffiliation> ?answer }')]"
      ]
     },
     "execution_count": 6,
     "metadata": {},
     "output_type": "execute_result"
    }
   ],
   "source": [
    "get_similar_questions(\"The author Sameh S. Askar is primarily affiliated to which institution?\", q_templates)"
   ]
  },
  {
   "cell_type": "code",
   "execution_count": 7,
   "id": "1947057a",
   "metadata": {},
   "outputs": [],
   "source": [
    "def get_similar_question_embeddings(question, corpus, model):\n",
    "    embeddings = OpenAIEmbeddings(\n",
    "    openai_api_base=\"https://llms-inference.innkube.fim.uni-passau.de\",\n",
    "    api_key=api_key,\n",
    "    model=model\n",
    "    )\n",
    "    questions_text = [q['question'] for q in list(corpus.values())]\n",
    "    corpus_embeddings = [embeddings.embed_query(q) for q in questions_text]\n",
    "    query_embedding = embeddings.embed_query(question)\n",
    "    cos_sim = cosine_similarity([query_embedding], corpus_embeddings)[0]\n",
    "    top_n = sorted(enumerate(cos_sim), key=lambda x: x[1], reverse=True)[:2]\n",
    "   \n",
    "    return [(list(corpus.values())[idx]['question'], list(corpus.values())[idx]['sparql']) for idx, score in top_n]\n",
    "    \n"
   ]
  },
  {
   "cell_type": "code",
   "execution_count": 8,
   "id": "937eb228",
   "metadata": {},
   "outputs": [],
   "source": [
    "import re\n",
    "import codecs\n",
    "\n",
    "def preprocess_text(text):\n",
    "    # Decode unicode escape sequences like \\\\u00F3 → ó\n",
    "    try:\n",
    "        text = codecs.decode(text, 'unicode_escape')\n",
    "    except Exception:\n",
    "        pass  # Fail silently if already decoded\n",
    "    # Remove escaped periods like '\\.' → '.'\n",
    "    text = text.replace('\\\\.', '')\n",
    "    # Remove comma between two name-like words\n",
    "    text = re.sub(r'(\\b[\\w\\-\\']+\\b),\\s*(\\b[\\w\\-\\']+\\b)', r'\\1 \\2', text)\n",
    "    return text"
   ]
  },
  {
   "cell_type": "code",
   "execution_count": 45,
   "id": "ffe8de85",
   "metadata": {},
   "outputs": [
    {
     "data": {
      "text/plain": [
       "[{'@score': '2',\n",
       "  '@id': '833159',\n",
       "  'info': {'author': 'Angela A. Eick', 'url': 'https://dblp.org/pid/155/2756'},\n",
       "  'url': 'URL#833159'}]"
      ]
     },
     "execution_count": 45,
     "metadata": {},
     "output_type": "execute_result"
    }
   ],
   "source": [
    "import requests\n",
    "\n",
    "response = requests.get('https://dblp.org/search/author/api', params={'q': \"Eick Angela\", 'format': 'json'})\n",
    "data = response.json()\n",
    "data['result']['hits']['hit']"
   ]
  },
  {
   "cell_type": "code",
   "execution_count": 46,
   "id": "cf8b9c07",
   "metadata": {},
   "outputs": [
    {
     "data": {
      "text/plain": [
       "1"
      ]
     },
     "execution_count": 46,
     "metadata": {},
     "output_type": "execute_result"
    }
   ],
   "source": [
    "len(data['result']['hits']['hit'])"
   ]
  },
  {
   "cell_type": "code",
   "execution_count": 49,
   "id": "6cd9b3cc",
   "metadata": {},
   "outputs": [],
   "source": [
    "import requests\n",
    "def get_author_id(author_name):\n",
    "    response = requests.get('https://dblp.org/search/author/api', params={'q': author_name, 'format': 'json'})\n",
    "    if response.status_code == 200:\n",
    "        data = response.json()\n",
    "        return(data['result']['hits']['hit'][0]['info']['url'], len(data['result']['hits']['hit']))\n",
    "    else:\n",
    "        print(\"Request failed with status:\", response.status_code)\n",
    "        return None"
   ]
  },
  {
   "cell_type": "code",
   "execution_count": 66,
   "id": "832340fa",
   "metadata": {},
   "outputs": [],
   "source": [
    "def build_regex_pattern(name: str) -> str:\n",
    "    name_parts = name.lower().strip().split()\n",
    "    name_parts = [part.replace(\".\", \"\") for part in name_parts]\n",
    "    pattern = \".*\".join(name_parts)\n",
    "    return f'No id is available, use regex matching, exp: ?author rdfs:label ?name .\\nFILTER(REGEX(?name, \"{pattern}\", \"i\"))'\n",
    "    "
   ]
  },
  {
   "cell_type": "code",
   "execution_count": 67,
   "id": "4a532e7a",
   "metadata": {},
   "outputs": [
    {
     "data": {
      "text/plain": [
       "'No id is available, use regex matching, exp: ?author rdfs:label ?name .\\nFILTER(REGEX(?name, \"k.*cheng\", \"i\"))'"
      ]
     },
     "execution_count": 67,
     "metadata": {},
     "output_type": "execute_result"
    }
   ],
   "source": [
    "build_regex_pattern(\"K. Cheng\")"
   ]
  },
  {
   "cell_type": "code",
   "execution_count": 68,
   "id": "b16972fb",
   "metadata": {},
   "outputs": [],
   "source": [
    "import spacy\n",
    "nlp = spacy.load(\"en_core_web_lg\")\n",
    "\n",
    "def extract_author_dblp_ids(text):\n",
    "    authors={}\n",
    "    doc = nlp(text)\n",
    "    nbr_ent = len(doc.ents)\n",
    "    for ent in doc.ents:\n",
    "        if ent.label_=='PERSON':\n",
    "            match, nbr_matches = get_author_id(ent.text)\n",
    "            if nbr_matches>1 and nbr_ent>1:\n",
    "                authors[ent.text]=build_regex_pattern(ent.text)\n",
    "            else:\n",
    "                authors[ent.text]=match\n",
    "    return authors\n",
    "            "
   ]
  },
  {
   "cell_type": "code",
   "execution_count": 62,
   "id": "655e199c",
   "metadata": {},
   "outputs": [
    {
     "data": {
      "text/plain": [
       "{'Ji Shaoxiong': 'https://dblp.org/pid/227/0291'}"
      ]
     },
     "execution_count": 62,
     "metadata": {},
     "output_type": "execute_result"
    }
   ],
   "source": [
    "extract_author_dblp_ids(\"Which papers did Ji Shaoxiong publish in the last 8 years?\")"
   ]
  },
  {
   "cell_type": "code",
   "execution_count": 52,
   "id": "6fff8f31",
   "metadata": {},
   "outputs": [],
   "source": [
    "def extract_paper_titles(text):\n",
    "    patterns = [\n",
    "        r\"'([^']+)'.*?'([^']+)'.*?which one.*?(?:published|authors)|which one.*?(?:published|authors).*?'([^']+)'.*?'([^']+)'\",\n",
    "        r\"(?:\\bpaper\\s+|\\bauthors\\s+of\\s+)'([^']+)'\"\n",
    "    ]\n",
    "    for pattern in patterns:\n",
    "        match = re.search(pattern, text, re.IGNORECASE)\n",
    "        if match:\n",
    "            return [g for g in match.groups() if g is not None]\n",
    "    return None"
   ]
  },
  {
   "cell_type": "code",
   "execution_count": null,
   "id": "3be02d41",
   "metadata": {},
   "outputs": [],
   "source": [
    "def get_paper_id(paper_title):\n",
    "    response = requests.get('https://dblp.org/search/publ/api', params={'q': paper_title, 'format': 'json'})\n",
    "    if response.status_code == 200:\n",
    "        data = response.json()\n",
    "        return(data['result']['hits']['hit'][0]['info']['url'])\n",
    "    else:\n",
    "        print(\"Request failed with status:\", response.status_code)"
   ]
  },
  {
   "cell_type": "code",
   "execution_count": 16,
   "id": "cbab98c8",
   "metadata": {},
   "outputs": [],
   "source": [
    "def extract_paper_ids(question):\n",
    "    papers = extract_paper_titles(question)\n",
    "    paper_ids = {}\n",
    "    if papers:\n",
    "        for paper in papers:\n",
    "            paper_ids[paper]=get_paper_id(paper)\n",
    "            return paper_ids\n",
    "    else:\n",
    "        return None"
   ]
  },
  {
   "cell_type": "code",
   "execution_count": 69,
   "id": "ef2b70d5",
   "metadata": {},
   "outputs": [],
   "source": [
    "def prompt(question, q_templates):\n",
    "    \n",
    "    first_similar_question, second_similar_question = get_similar_questions(question, q_templates)\n",
    "    first_question, first_sparql = first_similar_question\n",
    "    second_question, second_sparql = second_similar_question\n",
    "    pre_processed_question = preprocess_text(question)\n",
    "    author_ids = extract_author_dblp_ids(pre_processed_question)\n",
    "    paper_ids = extract_paper_ids(pre_processed_question)\n",
    "    \n",
    "    prompt = f\"Question: {question}\\nSimilar Question 1: {first_question}\\n{first_sparql}\\nSimilar Question 2: {second_question}\\n{second_sparql}\\nPaper ids: {paper_ids}\\nAuthor ids: {author_ids}\"\n",
    "    return prompt"
   ]
  },
  {
   "cell_type": "code",
   "execution_count": 70,
   "id": "92218e8b",
   "metadata": {},
   "outputs": [
    {
     "name": "stdout",
     "output_type": "stream",
     "text": [
      "Question: Find the paper written by Carlee Joe-Wong with Liang Zheng that was published in INFOCOM.\n",
      "Similar Question 1: Report the count of papers that Fanggang Wang has published in IEEE Wirel. Commun..\n",
      "SELECT (COUNT(DISTINCT ?answer) AS ?count) WHERE { ?answer <https://dblp.org/rdf/schema#authoredBy> <https://dblp.org/pid/84/2752> . ?answer <https://dblp.org/rdf/schema#publishedIn> 'IEEE Wirel. Commun.' }\n",
      "Similar Question 2: When was the paper on Manufacturing knowledge models by Loughborough University published?\n",
      "SELECT DISTINCT ?answer WHERE { <https://dblp.org/rec/journals/ao/ChungooraY11> <https://dblp.org/rdf/schema#authoredBy> ?x . ?x <https://dblp.org/rdf/schema#primaryAffiliation> 'Loughborough University, UK' . <https://dblp.org/rec/journals/ao/ChungooraY11> <https://dblp.org/rdf/schema#yearOfPublication> ?answer }\n",
      "Paper ids: None\n",
      "Author ids: {'Carlee Joe-Wong': 'https://dblp.org/pid/40/9937', 'Liang Zheng': 'No id is available, use regex matching, exp: ?author rdfs:label ?name .\\nFILTER(REGEX(?name, \"liang.*zheng\", \"i\"))'}\n"
     ]
    }
   ],
   "source": [
    "print(prompt(\"Find the paper written by Carlee Joe-Wong with Liang Zheng that was published in INFOCOM.\", q_templates))"
   ]
  },
  {
   "cell_type": "code",
   "execution_count": 79,
   "id": "230d32ba",
   "metadata": {},
   "outputs": [],
   "source": [
    "def nl2sparql(question, templates, model=\"qwen2.5\"):\n",
    "    prompt_text = prompt(question, templates)\n",
    "    \n",
    "    client = openai.OpenAI(\n",
    "    api_key=api_key,\n",
    "    base_url=\"https://llms-inference.innkube.fim.uni-passau.de\" \n",
    "    )\n",
    "    \n",
    "    \n",
    "    instruction = \"\"\"You are an expert in sparql query generation. Given a question, a similar question template, \n",
    "    its sparql query and DBLP entity ids if available, generate a sparql query that answers the question. If you can't generate the query\n",
    "    return Nan. Provide only the sparql query without any explanation or additional text.\"\"\"\n",
    "\n",
    "    response = client.chat.completions.create(\n",
    "        temperature=0.6,\n",
    "        model=model,\n",
    "        messages = [\n",
    "            {\n",
    "                \"role\": \"system\",\n",
    "                \"content\" : instruction\n",
    "            },\n",
    "            {   \n",
    "                \"role\": \"user\",\n",
    "                \"content\": prompt_text\n",
    "            }\n",
    "        ]\n",
    "    )\n",
    "    \n",
    "    return response.choices[0].message.content\n"
   ]
  },
  {
   "cell_type": "code",
   "execution_count": 80,
   "id": "afe0fa64",
   "metadata": {},
   "outputs": [
    {
     "data": {
      "text/plain": [
       "'SELECT DISTINCT ?paper WHERE { ?paper <https://dblp.org/rdf/schema#authoredBy> <https://dblp.org/pid/40/9937> . ?paper <https://dblp.org/rdf/schema#authoredBy> ?author . ?author rdfs:label ?name . FILTER(REGEX(?name, \"liang.*zheng\", \"i\")) . ?paper <https://dblp.org/rdf/schema#publishedIn> \\'INFOCOM\\' }'"
      ]
     },
     "execution_count": 80,
     "metadata": {},
     "output_type": "execute_result"
    }
   ],
   "source": [
    "nl2sparql(\"Find the paper written by Carlee Joe-Wong with Liang Zheng that was published in INFOCOM.\", q_templates)"
   ]
  }
 ],
 "metadata": {
  "kernelspec": {
   "display_name": "venv",
   "language": "python",
   "name": "python3"
  },
  "language_info": {
   "codemirror_mode": {
    "name": "ipython",
    "version": 3
   },
   "file_extension": ".py",
   "mimetype": "text/x-python",
   "name": "python",
   "nbconvert_exporter": "python",
   "pygments_lexer": "ipython3",
   "version": "3.10.2"
  }
 },
 "nbformat": 4,
 "nbformat_minor": 5
}
