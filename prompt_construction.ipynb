{
 "cells": [
  {
   "cell_type": "code",
   "execution_count": 7,
   "id": "cd3a4283",
   "metadata": {},
   "outputs": [],
   "source": [
    "from orkg import ORKG, Hosts"
   ]
  },
  {
   "cell_type": "code",
   "execution_count": 8,
   "id": "eaf2ed27",
   "metadata": {},
   "outputs": [],
   "source": [
    "orkg = ORKG(host=Hosts.PRODUCTION)"
   ]
  },
  {
   "cell_type": "code",
   "execution_count": 16,
   "id": "bb7992e5",
   "metadata": {},
   "outputs": [
    {
     "data": {
      "text/plain": [
       "(Success) {'id': 'P7057', 'label': 'has subProblem', 'description': None, 'created_at': '2020-01-29T17:10:44.528+01:00', 'created_by': '00000000-0000-0000-0000-000000000000', 'modifiable': True, '_class': 'predicate'}"
      ]
     },
     "execution_count": 16,
     "metadata": {},
     "output_type": "execute_result"
    }
   ],
   "source": [
    "orkg.predicates.by_id(id='P7057')"
   ]
  },
  {
   "cell_type": "code",
   "execution_count": 15,
   "id": "f779b1d6",
   "metadata": {},
   "outputs": [
    {
     "data": {
      "text/plain": [
       "(Success) [{'id': 'P7057', 'label': 'has subProblem', 'description': None, 'created_at': '2020-01-29T17:10:44.528+01:00', 'created_by': '00000000-0000-0000-0000-000000000000', 'modifiable': True, '_class': 'predicate'}]"
      ]
     },
     "execution_count": 15,
     "metadata": {},
     "output_type": "execute_result"
    }
   ],
   "source": [
    "orkg.predicates.get(q='subProblem',exact=False,size=30,sort='label',desc=True)"
   ]
  },
  {
   "cell_type": "code",
   "execution_count": 20,
   "id": "cf23d315",
   "metadata": {},
   "outputs": [
    {
     "data": {
      "text/plain": [
       "(Fail) b'{\"status\":404,\"error\":\"Not Found\",\"path\":\"/api/classes/Resource/\",\"timestamp\":\"2025-06-27T12:27:56.54404209+02:00\",\"message\":\"Class \\\\\"Resource\\\\\" not found.\"}'"
      ]
     },
     "execution_count": 20,
     "metadata": {},
     "output_type": "execute_result"
    }
   ],
   "source": [
    "orkg.classes.by_id(id='Resource')"
   ]
  },
  {
   "cell_type": "code",
   "execution_count": 21,
   "id": "1abbe150",
   "metadata": {},
   "outputs": [
    {
     "data": {
      "text/plain": [
       "(Success) [{'id': 'C15002', 'label': 'Resource', 'uri': 'http://www.w3.org/ns/dcat#Resource', 'description': None, 'created_at': '2021-04-22T13:30:56.155639+02:00', 'created_by': '7adcfc45-b315-4df7-b9a5-010e8f1ca9cb', 'modifiable': True, '_class': 'class'}, {'id': 'Resources', 'label': 'Resource', 'uri': None, 'description': None, 'created_at': '2021-11-02T10:18:04.524891+01:00', 'created_by': '00000000-0000-0000-0000-000000000000', 'modifiable': True, '_class': 'class'}, {'id': 'C21057', 'label': 'XrayResource', 'uri': None, 'description': None, 'created_at': '2021-11-16T19:58:09.620608+01:00', 'created_by': '1bfbb658-6a8e-4a3a-86e4-2e24b021ba9b', 'modifiable': True, '_class': 'class'}, {'id': 'C58034', 'label': 'Resource Size', 'uri': 'https://w3id.org/semsys/ns/swemls#ResourceSize', 'description': None, 'created_at': '2023-03-15T14:11:20.502354Z', 'created_by': '61a04b37-e5a3-40a1-a767-81adf2ce706e', 'modifiable': True, '_class': 'class'}, {'id': 'C58035', 'label': 'Resource Type', 'uri': 'https://w3id.org/semsys/ns/swemls#ResourceType', 'description': None, 'created_at': '2023-03-15T14:11:21.268103Z', 'created_by': '7520b56b-c435-46ed-9337-734b2c6731fc', 'modifiable': True, '_class': 'class'}, {'id': 'ResourceSection', 'label': 'ResourceSection', 'uri': None, 'description': None, 'created_at': '2020-12-07T15:43:43.243096+01:00', 'created_by': '00000000-0000-0000-0000-000000000000', 'modifiable': True, '_class': 'class'}, {'id': 'C21066', 'label': 'Atomic Resource', 'uri': None, 'description': None, 'created_at': '2021-11-21T20:08:00.22561+01:00', 'created_by': '1bfbb658-6a8e-4a3a-86e4-2e24b021ba9b', 'modifiable': True, '_class': 'class'}, {'id': 'C40003', 'label': 'Plasma resources', 'uri': None, 'description': None, 'created_at': '2022-09-21T08:54:30.789562Z', 'created_by': '1bfbb658-6a8e-4a3a-86e4-2e24b021ba9b', 'modifiable': True, '_class': 'class'}, {'id': 'C29034', 'label': 'SoftwareSourceCode', 'uri': 'https://schema.org/SoftwareSourceCode', 'description': None, 'created_at': '2022-06-04T10:32:27.899734Z', 'created_by': '7adcfc45-b315-4df7-b9a5-010e8f1ca9cb', 'modifiable': True, '_class': 'class'}, {'id': 'C58037', 'label': 'Semantic Web Resource', 'uri': 'https://w3id.org/semsys/ns/swemls#SemanticWebResource', 'description': None, 'created_at': '2023-03-15T14:11:22.801152Z', 'created_by': '61a04b37-e5a3-40a1-a767-81adf2ce706e', 'modifiable': True, '_class': 'class'}, {'id': 'ComparisonRelatedResource', 'label': 'Comparison Related Resource', 'uri': None, 'description': None, 'created_at': '2020-06-11T18:58:03.860298+02:00', 'created_by': '00000000-0000-0000-0000-000000000000', 'modifiable': True, '_class': 'class'}, {'id': 'ExternalResourceDescription', 'label': 'ExternalResourceDescription', 'uri': None, 'description': None, 'created_at': '2020-09-28T15:07:04.18946+02:00', 'created_by': '00000000-0000-0000-0000-000000000000', 'modifiable': True, '_class': 'class'}, {'id': 'C100023', 'label': 'open-education-resource-description (class)', 'uri': None, 'description': 'The statement describes the metadata on the open education resources\\n\\nThis is a Rosetta Statement class. Every Rosetta Stone Statement class has a template associated that should be used when adding a statement of this type to the ORKG.', 'created_at': '2024-10-17T18:56:51.692766791+02:00', 'created_by': '049597c5-57a9-4aeb-8628-4ea7411c1096', 'modifiable': True, '_class': 'class'}, {'id': 'C100024', 'label': 'Open-Education-Resources-description (class)', 'uri': None, 'description': 'Description of the Open Education Resources from TIB AV-portal.\\n\\nThis is a Rosetta Statement class. Every Rosetta Stone Statement class has a template associated that should be used when adding a statement of this type to the ORKG.', 'created_at': '2024-10-17T20:31:27.09902371+02:00', 'created_by': '049597c5-57a9-4aeb-8628-4ea7411c1096', 'modifiable': True, '_class': 'class'}]"
      ]
     },
     "execution_count": 21,
     "metadata": {},
     "output_type": "execute_result"
    }
   ],
   "source": [
    "orkg.classes.get_all(q='Resource', exact=False)"
   ]
  },
  {
   "cell_type": "code",
   "execution_count": 22,
   "id": "840d0553",
   "metadata": {},
   "outputs": [
    {
     "data": {
      "text/plain": [
       "<Graph identifier=Nb5646c1c5d6941b0a1c78fbd5a6e0eec (<class 'rdflib.graph.Graph'>)>"
      ]
     },
     "execution_count": 22,
     "metadata": {},
     "output_type": "execute_result"
    }
   ],
   "source": [
    "from rdflib import Graph\n",
    "\n",
    "# Load the RDF schema\n",
    "g = Graph()\n",
    "g.parse(\"schema.rdf\", format=\"xml\")  # Or 'turtle'/'n3' depending on your file\n"
   ]
  },
  {
   "cell_type": "code",
   "execution_count": null,
   "id": "c38028ae",
   "metadata": {},
   "outputs": [],
   "source": [
    "from rdflib import RDF, RDFS, OWL\n",
    "from sentence_transformers import SentenceTransformer, util\n",
    "\n",
    "# Load schema\n",
    "g = Graph()\n",
    "g.parse(\"schema.rdf\", format=\"xml\")  # or 'ttl', depending on format\n",
    "\n",
    "# Load transformer\n",
    "model = SentenceTransformer('all-MiniLM-L6-v2')\n",
    "\n",
    "# Step 1: Extract terms with labels/comments\n",
    "seen = set()\n",
    "terms = []\n",
    "\n",
    "for s in set(g.subjects()):  # ensures unique subjects\n",
    "    if s in seen:\n",
    "        continue\n",
    "    seen.add(s)\n",
    "\n",
    "    label = g.value(s, RDFS.label)\n",
    "    comment = g.value(s, RDFS.comment)\n",
    "\n",
    "    type_ = g.value(s, RDF.type)\n",
    "    if type_ == OWL.Class or type_ == RDFS.Class:\n",
    "        kind = \"Class\"\n",
    "    elif type_ in {RDF.Property, OWL.ObjectProperty, OWL.DatatypeProperty}:\n",
    "        kind = \"Property\"\n",
    "    else:\n",
    "        kind = \"Term\"\n",
    "\n",
    "    if label or comment:\n",
    "        text = f\"{kind}: {label or ''}. Comment: {comment or ''}\"\n",
    "        terms.append((s, text.strip()))\n",
    "\n",
    "# Step 2: Encode terms\n",
    "term_texts = [text for _, text in terms]\n",
    "term_embeddings = model.encode(term_texts, convert_to_tensor=True)\n",
    "\n",
    "# Step 3: Encode question\n",
    "question = \"Who is the author of the paper?\"\n",
    "question_embedding = model.encode(question, convert_to_tensor=True)\n",
    "\n",
    "# Step 4: Compute similarity\n",
    "cos_scores = util.cos_sim(question_embedding, term_embeddings)[0]\n",
    "top_results = cos_scores.topk(5)\n",
    "for score, idx in zip(top_results.values, top_results.indices):\n",
    "    uri, desc = terms[idx]\n",
    "\n"
   ]
  },
  {
   "cell_type": "code",
   "execution_count": null,
   "id": "e32be420",
   "metadata": {},
   "outputs": [],
   "source": []
  },
  {
   "cell_type": "code",
   "execution_count": 40,
   "id": "4052ae66",
   "metadata": {},
   "outputs": [
    {
     "name": "stdout",
     "output_type": "stream",
     "text": [
      "URI: file:///c:/Users/Administrator/kg-qa/schema.rdf#authorOf\n",
      "Description: Property: authorOf. Comment: The creator is the author of the publication.\n",
      "Score: 0.5394\n",
      "---\n",
      "URI: file:///c:/Users/Administrator/kg-qa/schema.rdf#authoredBy\n",
      "Description: Property: authoredBy. Comment: The publication is authored by the creator.\n",
      "Score: 0.5217\n",
      "---\n",
      "URI: file:///c:/Users/Administrator/kg-qa/schema.rdf#numberOfCreators\n",
      "Description: Property: numberOfCreators. Comment: The number of creators who created this publication.\n",
      "Score: 0.4766\n",
      "---\n",
      "URI: file:///c:/Users/Administrator/kg-qa/schema.rdf#creatorOf\n",
      "Description: Property: creatorOf. Comment: The creator of the publication.\n",
      "Score: 0.4760\n",
      "---\n",
      "URI: file:///c:/Users/Administrator/kg-qa/schema.rdf#AuthorSignature\n",
      "Description: Class: AuthorSignature. Comment: The information that links a publication to an author.\n",
      "Score: 0.4635\n",
      "---\n"
     ]
    }
   ],
   "source": [
    "\n",
    "for score, idx in zip(top_results.values, top_results.indices):\n",
    "    uri, desc = terms[idx]\n",
    "    print(f\"URI: {uri}\")\n",
    "    print(f\"Description: {desc}\")\n",
    "    print(f\"Score: {score:.4f}\")\n",
    "    print(\"---\")"
   ]
  },
  {
   "cell_type": "code",
   "execution_count": 65,
   "id": "94cc4f14",
   "metadata": {},
   "outputs": [],
   "source": [
    "list_1=sorted(list(template_representatives.keys()))"
   ]
  },
  {
   "cell_type": "code",
   "execution_count": 66,
   "id": "0e04e3eb",
   "metadata": {},
   "outputs": [],
   "source": [
    "list_2=sorted(list(val_template_representatives.keys()))"
   ]
  },
  {
   "cell_type": "code",
   "execution_count": 71,
   "id": "41ec6e85",
   "metadata": {},
   "outputs": [],
   "source": [
    "list_3=sorted(list(test_template_representatives.keys()))"
   ]
  },
  {
   "cell_type": "code",
   "execution_count": 69,
   "id": "4a96cd0e",
   "metadata": {},
   "outputs": [
    {
     "name": "stdout",
     "output_type": "stream",
     "text": [
      "In list1 but not in list2: ['TP71']\n",
      "In list2 but not in list1: ['TC62', 'TC36', 'TP54', 'TP15', 'TC42', 'TC17', 'TC22', 'TP72', 'TP64', 'TP32', 'TP84', 'TP04', 'TC13', 'TC74', 'TP21', 'TC83', 'TC03', 'TP11', 'TC52']\n"
     ]
    }
   ],
   "source": [
    "only_in_list1 = list(set(list_1) - set(list_2))\n",
    "print(\"In list1 but not in list2:\", only_in_list1)\n",
    "\n",
    "# Elements in list2 but not in list1\n",
    "only_in_list2 = list(set(list_2) - set(list_1))\n",
    "print(\"In list2 but not in list1:\", only_in_list2)"
   ]
  },
  {
   "cell_type": "code",
   "execution_count": 74,
   "id": "427aaedd",
   "metadata": {},
   "outputs": [
    {
     "name": "stdout",
     "output_type": "stream",
     "text": [
      "In list3 but not in list21 ['TC62', 'TC36', 'TP54', 'TP15', 'TC42', 'TC17', 'TC22', 'TP72', 'TP64', 'TP32', 'TP84', 'TP04', 'TC13', 'TC74', 'TP21', 'TC83', 'TC03', 'TP11', 'TC52']\n"
     ]
    }
   ],
   "source": [
    "only_in_list3 = list(set(list_3) - set(list_1))\n",
    "print(\"In list3 but not in list1\", only_in_list3)\n"
   ]
  },
  {
   "cell_type": "code",
   "execution_count": null,
   "id": "da66e124",
   "metadata": {},
   "outputs": [],
   "source": []
  },
  {
   "cell_type": "code",
   "execution_count": null,
   "id": "4c906d26",
   "metadata": {},
   "outputs": [],
   "source": []
  }
 ],
 "metadata": {
  "kernelspec": {
   "display_name": "venv",
   "language": "python",
   "name": "python3"
  },
  "language_info": {
   "codemirror_mode": {
    "name": "ipython",
    "version": 3
   },
   "file_extension": ".py",
   "mimetype": "text/x-python",
   "name": "python",
   "nbconvert_exporter": "python",
   "pygments_lexer": "ipython3",
   "version": "3.12.1"
  }
 },
 "nbformat": 4,
 "nbformat_minor": 5
}
