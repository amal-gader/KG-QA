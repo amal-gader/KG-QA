{
 "cells": [
  {
   "cell_type": "markdown",
   "id": "4cc485e4",
   "metadata": {},
   "source": [
    "DBLP"
   ]
  },
  {
   "cell_type": "markdown",
   "id": "68cf22b4",
   "metadata": {},
   "source": [
    "Gemma"
   ]
  },
  {
   "cell_type": "code",
   "execution_count": 2,
   "id": "83c2fee8",
   "metadata": {},
   "outputs": [],
   "source": [
    "import pandas as pd\n",
    "\n",
    "df1 = pd.read_csv(\"results/dblp_True_True_gemma2_nl2sparql_results.csv\")\n",
    "df2 = pd.read_csv(\"results/dblp_True_False_gemma2_nl2sparql_results.csv\")\n",
    "df3 = pd.read_csv(\"results/dblp_gemma2_nl2sparql_results.csv\")"
   ]
  },
  {
   "cell_type": "markdown",
   "id": "8b64e1a9",
   "metadata": {},
   "source": [
    "with entity linking, DBLPLinker"
   ]
  },
  {
   "cell_type": "code",
   "execution_count": 20,
   "id": "80943173",
   "metadata": {},
   "outputs": [
    {
     "data": {
      "text/plain": [
       "np.float64(0.9343309500629923)"
      ]
     },
     "execution_count": 20,
     "metadata": {},
     "output_type": "execute_result"
    }
   ],
   "source": [
    "df1[\"Jaccard\"].mean()"
   ]
  },
  {
   "cell_type": "code",
   "execution_count": 21,
   "id": "7339543b",
   "metadata": {},
   "outputs": [
    {
     "data": {
      "text/plain": [
       "np.float64(0.7038720530055526)"
      ]
     },
     "execution_count": 21,
     "metadata": {},
     "output_type": "execute_result"
    }
   ],
   "source": [
    "df1[\"BLEU\"].mean()"
   ]
  },
  {
   "cell_type": "code",
   "execution_count": 22,
   "id": "1377fc41",
   "metadata": {},
   "outputs": [
    {
     "name": "stdout",
     "output_type": "stream",
     "text": [
      "[0.97707478 0.97494448 0.97596993]\n"
     ]
    }
   ],
   "source": [
    "import numpy as np\n",
    "import ast\n",
    "\n",
    "df1[\"BERTScore\"] = df1[\"BERTScore\"].apply(ast.literal_eval) \n",
    "\n",
    "arr = np.array(df1[\"BERTScore\"].tolist(), dtype=float)\n",
    "mean_tuple = arr.mean(axis=0)\n",
    "print(mean_tuple)  # [2.0, 5.0]\n"
   ]
  },
  {
   "cell_type": "markdown",
   "id": "cc19a51a",
   "metadata": {},
   "source": [
    "With entity linking, no DBLPLinker"
   ]
  },
  {
   "cell_type": "code",
   "execution_count": 25,
   "id": "35f4358d",
   "metadata": {},
   "outputs": [
    {
     "data": {
      "text/plain": [
       "np.float64(0.8867163088084511)"
      ]
     },
     "execution_count": 25,
     "metadata": {},
     "output_type": "execute_result"
    }
   ],
   "source": [
    "df2[\"Jaccard\"].mean()"
   ]
  },
  {
   "cell_type": "code",
   "execution_count": 26,
   "id": "302d014f",
   "metadata": {},
   "outputs": [
    {
     "data": {
      "text/plain": [
       "np.float64(0.5812517051542654)"
      ]
     },
     "execution_count": 26,
     "metadata": {},
     "output_type": "execute_result"
    }
   ],
   "source": [
    "df2[\"BLEU\"].mean()"
   ]
  },
  {
   "cell_type": "code",
   "execution_count": 27,
   "id": "fa6890c2",
   "metadata": {},
   "outputs": [
    {
     "name": "stdout",
     "output_type": "stream",
     "text": [
      "[0.96008809 0.95182967 0.95581912]\n"
     ]
    }
   ],
   "source": [
    "df2[\"BERTScore\"] = df2[\"BERTScore\"].apply(ast.literal_eval) \n",
    "\n",
    "arr = np.array(df2[\"BERTScore\"].tolist(), dtype=float)\n",
    "mean_tuple = arr.mean(axis=0)\n",
    "print(mean_tuple)  # [2.0, 5.0]"
   ]
  },
  {
   "cell_type": "markdown",
   "id": "9d142dc4",
   "metadata": {},
   "source": [
    "No entity linking"
   ]
  },
  {
   "cell_type": "code",
   "execution_count": 28,
   "id": "7bd8dd71",
   "metadata": {},
   "outputs": [
    {
     "data": {
      "text/plain": [
       "np.float64(0.9660522845942492)"
      ]
     },
     "execution_count": 28,
     "metadata": {},
     "output_type": "execute_result"
    }
   ],
   "source": [
    "df3[\"Jaccard\"].mean()"
   ]
  },
  {
   "cell_type": "code",
   "execution_count": 29,
   "id": "a4347014",
   "metadata": {},
   "outputs": [
    {
     "data": {
      "text/plain": [
       "np.float64(0.7993411873980595)"
      ]
     },
     "execution_count": 29,
     "metadata": {},
     "output_type": "execute_result"
    }
   ],
   "source": [
    "df3[\"BLEU\"].mean()"
   ]
  },
  {
   "cell_type": "code",
   "execution_count": 30,
   "id": "95567772",
   "metadata": {},
   "outputs": [
    {
     "name": "stdout",
     "output_type": "stream",
     "text": [
      "[0.98386302 0.98143974 0.98261   ]\n"
     ]
    }
   ],
   "source": [
    "df3[\"BERTScore\"] = df3[\"BERTScore\"].apply(ast.literal_eval) \n",
    "\n",
    "arr = np.array(df3[\"BERTScore\"].tolist(), dtype=float)\n",
    "mean_tuple = arr.mean(axis=0)\n",
    "print(mean_tuple)  # [2.0, 5.0]"
   ]
  },
  {
   "cell_type": "markdown",
   "id": "b8b4933d",
   "metadata": {},
   "source": [
    "ORKG"
   ]
  },
  {
   "cell_type": "code",
   "execution_count": 3,
   "id": "bc1489e0",
   "metadata": {},
   "outputs": [],
   "source": [
    "df4 = pd.read_csv(\"results/orkg_gemma2_nl2sparql_results.csv\")"
   ]
  },
  {
   "cell_type": "code",
   "execution_count": 5,
   "id": "b63e68f4",
   "metadata": {},
   "outputs": [
    {
     "data": {
      "text/plain": [
       "np.float64(0.9875160906111529)"
      ]
     },
     "execution_count": 5,
     "metadata": {},
     "output_type": "execute_result"
    }
   ],
   "source": [
    "df4[\"Jaccard\"].mean()"
   ]
  },
  {
   "cell_type": "code",
   "execution_count": 6,
   "id": "7b4b3b59",
   "metadata": {},
   "outputs": [
    {
     "data": {
      "text/plain": [
       "np.float64(0.942818478642043)"
      ]
     },
     "execution_count": 6,
     "metadata": {},
     "output_type": "execute_result"
    }
   ],
   "source": [
    "df4[\"BLEU\"].mean()"
   ]
  },
  {
   "cell_type": "code",
   "execution_count": 10,
   "id": "3ac5314f",
   "metadata": {},
   "outputs": [
    {
     "name": "stdout",
     "output_type": "stream",
     "text": [
      "[0.99407478 0.99441997 0.9942433 ]\n"
     ]
    }
   ],
   "source": [
    "import ast\n",
    "import numpy as np\n",
    "\n",
    "arr = np.array(df4[\"BERTScore\"].tolist())\n",
    "mean_tuple = arr.mean(axis=0)\n",
    "print(mean_tuple)  # [2.0, 5.0]"
   ]
  },
  {
   "cell_type": "code",
   "execution_count": null,
   "id": "e8810c5e",
   "metadata": {},
   "outputs": [],
   "source": []
  },
  {
   "cell_type": "markdown",
   "id": "60cfa739",
   "metadata": {},
   "source": [
    "Qwen2.5 DBLP\n"
   ]
  },
  {
   "cell_type": "code",
   "execution_count": 13,
   "id": "e64fa852",
   "metadata": {},
   "outputs": [],
   "source": [
    "df5 = pd.read_csv(\"results/dblp_qwen2.5_nl2sparql_results.csv\")"
   ]
  },
  {
   "cell_type": "code",
   "execution_count": 14,
   "id": "80d3baed",
   "metadata": {},
   "outputs": [
    {
     "data": {
      "text/plain": [
       "np.float64(0.9473354439708133)"
      ]
     },
     "execution_count": 14,
     "metadata": {},
     "output_type": "execute_result"
    }
   ],
   "source": [
    "df5[\"Jaccard\"].mean()"
   ]
  },
  {
   "cell_type": "code",
   "execution_count": 15,
   "id": "0eb0bc37",
   "metadata": {},
   "outputs": [
    {
     "data": {
      "text/plain": [
       "np.float64(0.7816576688859007)"
      ]
     },
     "execution_count": 15,
     "metadata": {},
     "output_type": "execute_result"
    }
   ],
   "source": [
    "df5[\"BLEU\"].mean()"
   ]
  },
  {
   "cell_type": "code",
   "execution_count": 18,
   "id": "7315e583",
   "metadata": {},
   "outputs": [
    {
     "name": "stdout",
     "output_type": "stream",
     "text": [
      "[0.98386302 0.98143974 0.98261   ]\n"
     ]
    }
   ],
   "source": [
    "df3[\"BERTScore\"] = df3[\"BERTScore\"].apply(ast.literal_eval) \n",
    "\n",
    "arr = np.array(df3[\"BERTScore\"].tolist(), dtype=float)\n",
    "mean_tuple = arr.mean(axis=0)\n",
    "print(mean_tuple)  # [2.0, 5.0]"
   ]
  },
  {
   "cell_type": "code",
   "execution_count": null,
   "id": "4aee9a4f",
   "metadata": {},
   "outputs": [],
   "source": []
  },
  {
   "cell_type": "markdown",
   "id": "df153282",
   "metadata": {},
   "source": [
    "ORKG Qwen2.5"
   ]
  },
  {
   "cell_type": "code",
   "execution_count": 1,
   "id": "34b52ac2",
   "metadata": {},
   "outputs": [],
   "source": [
    "import pandas as pd\n",
    "\n",
    "df7= pd.read_csv(\"results/orkg_False_False_qwen2.5_nl2sparql_results.csv\")"
   ]
  },
  {
   "cell_type": "code",
   "execution_count": 2,
   "id": "98a93eb9",
   "metadata": {},
   "outputs": [
    {
     "data": {
      "text/plain": [
       "np.float64(0.9591628194620446)"
      ]
     },
     "execution_count": 2,
     "metadata": {},
     "output_type": "execute_result"
    }
   ],
   "source": [
    "df7[\"Jaccard\"].mean()"
   ]
  },
  {
   "cell_type": "code",
   "execution_count": 3,
   "id": "7224ccde",
   "metadata": {},
   "outputs": [
    {
     "data": {
      "text/plain": [
       "np.float64(0.9499640970820664)"
      ]
     },
     "execution_count": 3,
     "metadata": {},
     "output_type": "execute_result"
    }
   ],
   "source": [
    "df7[\"BLEU\"].mean()"
   ]
  },
  {
   "cell_type": "markdown",
   "id": "4f37f084",
   "metadata": {},
   "source": [
    "DBLP llama3-8B"
   ]
  },
  {
   "cell_type": "code",
   "execution_count": 1,
   "id": "3db48f8b",
   "metadata": {},
   "outputs": [],
   "source": [
    "import pandas as pd\n",
    "\n",
    "df8= pd.read_csv(\"results/dblp_False_False_llama3-8b_nl2sparql_results.csv\")"
   ]
  },
  {
   "cell_type": "code",
   "execution_count": 2,
   "id": "a76baf6e",
   "metadata": {},
   "outputs": [
    {
     "data": {
      "text/plain": [
       "np.float64(0.8735164463137894)"
      ]
     },
     "execution_count": 2,
     "metadata": {},
     "output_type": "execute_result"
    }
   ],
   "source": [
    "df8[\"Jaccard\"].mean()"
   ]
  },
  {
   "cell_type": "code",
   "execution_count": 3,
   "id": "9c89bf2c",
   "metadata": {},
   "outputs": [
    {
     "data": {
      "text/plain": [
       "np.float64(0.05619583115404925)"
      ]
     },
     "execution_count": 3,
     "metadata": {},
     "output_type": "execute_result"
    }
   ],
   "source": [
    "df8[\"BLEU\"].mean()"
   ]
  },
  {
   "cell_type": "code",
   "execution_count": null,
   "id": "e8c3696b",
   "metadata": {},
   "outputs": [],
   "source": []
  },
  {
   "cell_type": "markdown",
   "id": "a652c96e",
   "metadata": {},
   "source": [
    "ORKG llama3-8B"
   ]
  },
  {
   "cell_type": "code",
   "execution_count": 4,
   "id": "a6223090",
   "metadata": {},
   "outputs": [
    {
     "data": {
      "text/plain": [
       "np.float64(0.9846196338837898)"
      ]
     },
     "execution_count": 4,
     "metadata": {},
     "output_type": "execute_result"
    }
   ],
   "source": [
    "df9= pd.read_csv(\"results/orkg_False_False_llama3-8b_nl2sparql_results.csv\")\n",
    "df9[\"Jaccard\"].mean()\n"
   ]
  },
  {
   "cell_type": "code",
   "execution_count": 5,
   "id": "3ed2d75e",
   "metadata": {},
   "outputs": [
    {
     "data": {
      "text/plain": [
       "np.float64(0.7924887296697347)"
      ]
     },
     "execution_count": 5,
     "metadata": {},
     "output_type": "execute_result"
    }
   ],
   "source": [
    "df9[\"BLEU\"].mean()"
   ]
  },
  {
   "cell_type": "code",
   "execution_count": null,
   "id": "1c39d9f6",
   "metadata": {},
   "outputs": [],
   "source": []
  },
  {
   "cell_type": "markdown",
   "id": "72ad6ba1",
   "metadata": {},
   "source": [
    "RAG Pipe"
   ]
  },
  {
   "cell_type": "code",
   "execution_count": 20,
   "id": "ef1ccf98",
   "metadata": {},
   "outputs": [],
   "source": [
    "import pandas as pd\n",
    "\n",
    "rag_dblp_llama = pd.read_csv(\"results/llama_dblp_qasper_rag_gt.csv\")\n",
    "rag_dblp_r1 = pd.read_csv(\"results/deepseek_dblp_qasper_rag_responses.csv\")\n",
    "rag_orkg_r1 = pd.read_csv(\"results/deepseek_dblp_orkg_rag_responses.csv\")\n"
   ]
  },
  {
   "cell_type": "code",
   "execution_count": 21,
   "id": "501fdfe1",
   "metadata": {},
   "outputs": [
    {
     "data": {
      "text/html": [
       "<div>\n",
       "<style scoped>\n",
       "    .dataframe tbody tr th:only-of-type {\n",
       "        vertical-align: middle;\n",
       "    }\n",
       "\n",
       "    .dataframe tbody tr th {\n",
       "        vertical-align: top;\n",
       "    }\n",
       "\n",
       "    .dataframe thead th {\n",
       "        text-align: right;\n",
       "    }\n",
       "</style>\n",
       "<table border=\"1\" class=\"dataframe\">\n",
       "  <thead>\n",
       "    <tr style=\"text-align: right;\">\n",
       "      <th></th>\n",
       "      <th>title</th>\n",
       "      <th>question</th>\n",
       "      <th>response</th>\n",
       "      <th>ground_truth</th>\n",
       "    </tr>\n",
       "  </thead>\n",
       "  <tbody>\n",
       "    <tr>\n",
       "      <th>0</th>\n",
       "      <td>Minimally Supervised Learning of Affective Eve...</td>\n",
       "      <td>What is the seed lexicon?</td>\n",
       "      <td>&lt;think&gt;\\nOkay, so I need to figure out what th...</td>\n",
       "      <td>a vocabulary of positive and negative predicat...</td>\n",
       "    </tr>\n",
       "    <tr>\n",
       "      <th>1</th>\n",
       "      <td>Community Identity and User Engagement in a Mu...</td>\n",
       "      <td>Do they report results only on English data?</td>\n",
       "      <td>&lt;think&gt;\\nOkay, so I need to figure out if the ...</td>\n",
       "      <td>We compute our measures over the comments writ...</td>\n",
       "    </tr>\n",
       "    <tr>\n",
       "      <th>2</th>\n",
       "      <td>Question Answering based Clinical Text Structu...</td>\n",
       "      <td>What data is the language model pretrained on?</td>\n",
       "      <td>&lt;think&gt;\\nOkay, so I need to figure out what da...</td>\n",
       "      <td>Due to the high cost of pre-training BERT lang...</td>\n",
       "    </tr>\n",
       "    <tr>\n",
       "      <th>3</th>\n",
       "      <td>LAXARY: A Trustworthy Explainable Twitter Anal...</td>\n",
       "      <td>Do they evaluate only on English datasets?</td>\n",
       "      <td>&lt;think&gt;\\nOkay, so I need to figure out whether...</td>\n",
       "      <td>NaN</td>\n",
       "    </tr>\n",
       "    <tr>\n",
       "      <th>4</th>\n",
       "      <td>Unsupervised Bilingual Lexicon Induction from ...</td>\n",
       "      <td>Which vision-based approaches does this approa...</td>\n",
       "      <td>&lt;think&gt;\\nOkay, so I need to figure out which v...</td>\n",
       "      <td>We compare our approach with two baseline visi...</td>\n",
       "    </tr>\n",
       "    <tr>\n",
       "      <th>...</th>\n",
       "      <td>...</td>\n",
       "      <td>...</td>\n",
       "      <td>...</td>\n",
       "      <td>...</td>\n",
       "    </tr>\n",
       "    <tr>\n",
       "      <th>141</th>\n",
       "      <td>Finding Street Gang Members on Twitter</td>\n",
       "      <td>Do they evaluate only on English datasets?</td>\n",
       "      <td>&lt;think&gt;\\nAlright, I need to determine whether ...</td>\n",
       "      <td>NaN</td>\n",
       "    </tr>\n",
       "    <tr>\n",
       "      <th>142</th>\n",
       "      <td>A Unified System for Aggression Identification...</td>\n",
       "      <td>What is English mixed with in the TRAC dataset?</td>\n",
       "      <td>&lt;think&gt;\\nOkay, so I need to figure out what En...</td>\n",
       "      <td>In the future, we are planning to pay attenti...</td>\n",
       "    </tr>\n",
       "    <tr>\n",
       "      <th>143</th>\n",
       "      <td>An Emotional Analysis of False Information in ...</td>\n",
       "      <td>What is the baseline?</td>\n",
       "      <td>&lt;think&gt;\\nOkay, so I need to figure out what \"t...</td>\n",
       "      <td>In addition to EIN, we created a model (Emoti...</td>\n",
       "    </tr>\n",
       "    <tr>\n",
       "      <th>144</th>\n",
       "      <td>STransE: a novel embedding model of entities a...</td>\n",
       "      <td>What scoring function does the model use to sc...</td>\n",
       "      <td>&lt;think&gt;\\nOkay, so I'm trying to figure out wha...</td>\n",
       "      <td>We define the STransE score function $\\mathcal...</td>\n",
       "    </tr>\n",
       "    <tr>\n",
       "      <th>145</th>\n",
       "      <td>Identifying Clickbait: A Multi-Strategy Approa...</td>\n",
       "      <td>What are the differences with previous applica...</td>\n",
       "      <td>&lt;think&gt;\\nOkay, I need to figure out how to ans...</td>\n",
       "      <td>This approach considers related images</td>\n",
       "    </tr>\n",
       "  </tbody>\n",
       "</table>\n",
       "<p>146 rows × 4 columns</p>\n",
       "</div>"
      ],
      "text/plain": [
       "                                                 title  \\\n",
       "0    Minimally Supervised Learning of Affective Eve...   \n",
       "1    Community Identity and User Engagement in a Mu...   \n",
       "2    Question Answering based Clinical Text Structu...   \n",
       "3    LAXARY: A Trustworthy Explainable Twitter Anal...   \n",
       "4    Unsupervised Bilingual Lexicon Induction from ...   \n",
       "..                                                 ...   \n",
       "141             Finding Street Gang Members on Twitter   \n",
       "142  A Unified System for Aggression Identification...   \n",
       "143  An Emotional Analysis of False Information in ...   \n",
       "144  STransE: a novel embedding model of entities a...   \n",
       "145  Identifying Clickbait: A Multi-Strategy Approa...   \n",
       "\n",
       "                                              question  \\\n",
       "0                            What is the seed lexicon?   \n",
       "1         Do they report results only on English data?   \n",
       "2       What data is the language model pretrained on?   \n",
       "3           Do they evaluate only on English datasets?   \n",
       "4    Which vision-based approaches does this approa...   \n",
       "..                                                 ...   \n",
       "141         Do they evaluate only on English datasets?   \n",
       "142    What is English mixed with in the TRAC dataset?   \n",
       "143                              What is the baseline?   \n",
       "144  What scoring function does the model use to sc...   \n",
       "145  What are the differences with previous applica...   \n",
       "\n",
       "                                              response  \\\n",
       "0    <think>\\nOkay, so I need to figure out what th...   \n",
       "1    <think>\\nOkay, so I need to figure out if the ...   \n",
       "2    <think>\\nOkay, so I need to figure out what da...   \n",
       "3    <think>\\nOkay, so I need to figure out whether...   \n",
       "4    <think>\\nOkay, so I need to figure out which v...   \n",
       "..                                                 ...   \n",
       "141  <think>\\nAlright, I need to determine whether ...   \n",
       "142  <think>\\nOkay, so I need to figure out what En...   \n",
       "143  <think>\\nOkay, so I need to figure out what \"t...   \n",
       "144  <think>\\nOkay, so I'm trying to figure out wha...   \n",
       "145  <think>\\nOkay, I need to figure out how to ans...   \n",
       "\n",
       "                                          ground_truth  \n",
       "0    a vocabulary of positive and negative predicat...  \n",
       "1    We compute our measures over the comments writ...  \n",
       "2    Due to the high cost of pre-training BERT lang...  \n",
       "3                                                  NaN  \n",
       "4    We compare our approach with two baseline visi...  \n",
       "..                                                 ...  \n",
       "141                                                NaN  \n",
       "142   In the future, we are planning to pay attenti...  \n",
       "143   In addition to EIN, we created a model (Emoti...  \n",
       "144  We define the STransE score function $\\mathcal...  \n",
       "145             This approach considers related images  \n",
       "\n",
       "[146 rows x 4 columns]"
      ]
     },
     "execution_count": 21,
     "metadata": {},
     "output_type": "execute_result"
    }
   ],
   "source": [
    "rag_dblp_r1"
   ]
  },
  {
   "cell_type": "code",
   "execution_count": 26,
   "id": "601bd070",
   "metadata": {},
   "outputs": [],
   "source": [
    "rag_dblp_r1[\"answer\"] = rag_dblp_r1[\"response\"].str.rsplit('</think>', n=1).str[-1].str.strip()"
   ]
  },
  {
   "cell_type": "code",
   "execution_count": 27,
   "id": "6f4f06fd",
   "metadata": {},
   "outputs": [
    {
     "data": {
      "text/plain": [
       "'The seed lexicon is a predefined set of events with assigned polarity scores (+1 for positive, -1 for negative) used to train the model through label propagation and as reference data in loss functions.'"
      ]
     },
     "execution_count": 27,
     "metadata": {},
     "output_type": "execute_result"
    }
   ],
   "source": [
    "rag_dblp_r1[\"answer\"].iloc[0]"
   ]
  },
  {
   "cell_type": "code",
   "execution_count": 28,
   "id": "bcc14c4e",
   "metadata": {},
   "outputs": [
    {
     "data": {
      "text/plain": [
       "'a vocabulary of positive and negative predicates that helps determine the polarity score of an event'"
      ]
     },
     "execution_count": 28,
     "metadata": {},
     "output_type": "execute_result"
    }
   ],
   "source": [
    "rag_dblp_r1[\"ground_truth\"].iloc[0]"
   ]
  },
  {
   "cell_type": "code",
   "execution_count": 29,
   "id": "5ece7df5",
   "metadata": {},
   "outputs": [],
   "source": [
    "rag_dblp_r1[\"sem-sim\"] = rag_dblp_r1.apply(\n",
    "    lambda row: calculate_semantic_similarity(row[\"answer\"], row[\"ground_truth\"])\n",
    "    if pd.notnull(row[\"answer\"]) and pd.notnull(row[\"ground_truth\"])\n",
    "    else None,\n",
    "    axis=1\n",
    ")"
   ]
  },
  {
   "cell_type": "code",
   "execution_count": 34,
   "id": "702319b7",
   "metadata": {},
   "outputs": [],
   "source": [
    "rag_dblp_r1[\"jaccard\"] = rag_dblp_r1.apply(\n",
    "    lambda row: jaccard_similarity(row[\"response\"], row[\"ground_truth\"])\n",
    "    if pd.notnull(row[\"answer\"]) and pd.notnull(row[\"ground_truth\"])\n",
    "    else None,\n",
    "    axis=1\n",
    ")"
   ]
  },
  {
   "cell_type": "code",
   "execution_count": 32,
   "id": "f5114e40",
   "metadata": {},
   "outputs": [
    {
     "data": {
      "text/plain": [
       "np.float64(0.3454786551395251)"
      ]
     },
     "execution_count": 32,
     "metadata": {},
     "output_type": "execute_result"
    }
   ],
   "source": [
    "rag_dblp_r1[~rag_dblp_r1[\"sem-sim\"].isna()][\"sem-sim\"].mean()"
   ]
  },
  {
   "cell_type": "code",
   "execution_count": 3,
   "id": "b45b253e",
   "metadata": {},
   "outputs": [],
   "source": [
    "rag_orkg_llama = pd.read_csv(\"results/llama_orkg_rag_responses.csv\")"
   ]
  },
  {
   "cell_type": "code",
   "execution_count": 6,
   "id": "cac82478",
   "metadata": {},
   "outputs": [],
   "source": [
    "from evaluate import calculate_semantic_similarity\n",
    "\n",
    "\n",
    "rag_dblp_llama[\"sem-sim\"] = rag_dblp_llama.apply(\n",
    "    lambda row: calculate_semantic_similarity(row[\"response\"], row[\"ground_truth\"])\n",
    "    if pd.notnull(row[\"response\"]) and pd.notnull(row[\"ground_truth\"])\n",
    "    else None,\n",
    "    axis=1\n",
    ")\n"
   ]
  },
  {
   "cell_type": "code",
   "execution_count": 20,
   "id": "a550b902",
   "metadata": {},
   "outputs": [],
   "source": [
    "\n",
    "rag_dblp_llama[\"Bleu\"] = rag_dblp_llama.apply(\n",
    "    lambda row: jaccard_similarity(row[\"response\"], row[\"ground_truth\"])\n",
    "    if pd.notnull(row[\"response\"]) and pd.notnull(row[\"ground_truth\"])\n",
    "    else None,\n",
    "    axis=1\n",
    ")"
   ]
  },
  {
   "cell_type": "code",
   "execution_count": 22,
   "id": "7ac25185",
   "metadata": {},
   "outputs": [
    {
     "data": {
      "text/plain": [
       "np.float64(0.24021650660654595)"
      ]
     },
     "execution_count": 22,
     "metadata": {},
     "output_type": "execute_result"
    }
   ],
   "source": [
    "rag_dblp_llama[\"sem_sim\"].mean()"
   ]
  },
  {
   "cell_type": "code",
   "execution_count": 21,
   "id": "5cd45dd5",
   "metadata": {},
   "outputs": [
    {
     "data": {
      "text/plain": [
       "np.float64(0.36043483507306345)"
      ]
     },
     "execution_count": 21,
     "metadata": {},
     "output_type": "execute_result"
    }
   ],
   "source": [
    "rag_dblp_llama[\"Bleu\"].mean()"
   ]
  },
  {
   "cell_type": "code",
   "execution_count": 2,
   "id": "bf6612c7",
   "metadata": {},
   "outputs": [
    {
     "name": "stderr",
     "output_type": "stream",
     "text": [
      "/root/kg-qa/venv/lib/python3.12/site-packages/tqdm/auto.py:21: TqdmWarning: IProgress not found. Please update jupyter and ipywidgets. See https://ipywidgets.readthedocs.io/en/stable/user_install.html\n",
      "  from .autonotebook import tqdm as notebook_tqdm\n"
     ]
    }
   ],
   "source": [
    "from evaluate import calculate_semantic_similarity, compute_bleu, jaccard_similarity, f1_score"
   ]
  },
  {
   "cell_type": "code",
   "execution_count": 6,
   "id": "f87094d2",
   "metadata": {},
   "outputs": [],
   "source": [
    "rag_orkg_llama[\"sem-sim\"] = rag_orkg_llama.apply(\n",
    "    lambda row: calculate_semantic_similarity(row[\"response\"], row[\"ground_truth\"]),axis=1\n",
    ")"
   ]
  },
  {
   "cell_type": "code",
   "execution_count": null,
   "id": "781c3175",
   "metadata": {},
   "outputs": [],
   "source": [
    "rag_orkg_llama[\"jaccard\"] = rag_orkg_llama.apply(\n",
    "    lambda row: jaccard_similarity(row[\"response\"], row[\"ground_truth\"]),axis=1\n",
    ")"
   ]
  },
  {
   "cell_type": "code",
   "execution_count": 4,
   "id": "c3985e5d",
   "metadata": {},
   "outputs": [],
   "source": [
    "rag_orkg_llama[\"f1\"] = rag_orkg_llama.apply(\n",
    "    lambda row: f1_score(row[\"response\"], row[\"ground_truth\"]),axis=1\n",
    ")"
   ]
  },
  {
   "cell_type": "code",
   "execution_count": 10,
   "id": "4ce3619f",
   "metadata": {},
   "outputs": [
    {
     "data": {
      "text/plain": [
       "np.float64(0.5164859174895453)"
      ]
     },
     "execution_count": 10,
     "metadata": {},
     "output_type": "execute_result"
    }
   ],
   "source": [
    "rag_orkg_llama[\"sem-sim\"].mean()"
   ]
  },
  {
   "cell_type": "code",
   "execution_count": null,
   "id": "f862f5d2",
   "metadata": {},
   "outputs": [
    {
     "data": {
      "text/plain": [
       "np.float64(0.6330591810113007)"
      ]
     },
     "execution_count": 23,
     "metadata": {},
     "output_type": "execute_result"
    }
   ],
   "source": [
    "rag_orkg_llama[\"jaccard\"].mean()"
   ]
  },
  {
   "cell_type": "markdown",
   "id": "a89a93c8",
   "metadata": {},
   "source": [
    "dblp full llama"
   ]
  },
  {
   "cell_type": "code",
   "execution_count": 1,
   "id": "5868497d",
   "metadata": {},
   "outputs": [],
   "source": [
    "import pandas as pd\n",
    "\n",
    "df = pd.read_csv(\"llama_dblp_rag_responses.csv\")"
   ]
  },
  {
   "cell_type": "code",
   "execution_count": 4,
   "id": "8c7d889f",
   "metadata": {},
   "outputs": [],
   "source": [
    "df[\"sem-sim\"] = df.apply(\n",
    "    lambda row: calculate_semantic_similarity(row[\"response\"], row[\"ground_truth\"])\n",
    "    if pd.notnull(row[\"response\"]) and pd.notnull(row[\"ground_truth\"])\n",
    "    else None,\n",
    "    axis=1\n",
    ")"
   ]
  },
  {
   "cell_type": "code",
   "execution_count": 6,
   "id": "31cb03e5",
   "metadata": {},
   "outputs": [],
   "source": [
    "df[\"jaccard\"] = df.apply(\n",
    "    lambda row: jaccard_similarity(row[\"response\"], row[\"ground_truth\"]) \n",
    "    if pd.notnull(row[\"response\"]) and pd.notnull(row[\"ground_truth\"])\n",
    "    else None,\n",
    "    axis=1\n",
    ")"
   ]
  },
  {
   "cell_type": "code",
   "execution_count": 8,
   "id": "38c1f62b",
   "metadata": {},
   "outputs": [],
   "source": [
    "df[\"f1\"] = df.apply(\n",
    "    lambda row: f1_score(row[\"response\"], row[\"ground_truth\"]) \n",
    "    if pd.notnull(row[\"response\"]) and pd.notnull(row[\"ground_truth\"])\n",
    "    else None,\n",
    "    axis=1\n",
    ")"
   ]
  },
  {
   "cell_type": "code",
   "execution_count": 10,
   "id": "3aae332d",
   "metadata": {},
   "outputs": [
    {
     "data": {
      "text/plain": [
       "np.float64(0.27650919821442793)"
      ]
     },
     "execution_count": 10,
     "metadata": {},
     "output_type": "execute_result"
    }
   ],
   "source": [
    "df[\"sem-sim\"].mean()"
   ]
  }
 ],
 "metadata": {
  "kernelspec": {
   "display_name": "venv",
   "language": "python",
   "name": "python3"
  },
  "language_info": {
   "codemirror_mode": {
    "name": "ipython",
    "version": 3
   },
   "file_extension": ".py",
   "mimetype": "text/x-python",
   "name": "python",
   "nbconvert_exporter": "python",
   "pygments_lexer": "ipython3",
   "version": "3.12.1"
  }
 },
 "nbformat": 4,
 "nbformat_minor": 5
}
